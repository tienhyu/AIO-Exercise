{
 "cells": [
  {
   "cell_type": "markdown",
   "metadata": {},
   "source": [
    "**1.1. Length of a vector**"
   ]
  },
  {
   "cell_type": "code",
   "execution_count": 8,
   "metadata": {},
   "outputs": [],
   "source": [
    "import numpy as np\n",
    "def compute_vector_length(vector):\n",
    "    len_of_vector = np.linalg.norm(vector)\n",
    "\n",
    "    return len_of_vector"
   ]
  },
  {
   "cell_type": "markdown",
   "metadata": {},
   "source": [
    "**1.2. Dot product**"
   ]
  },
  {
   "cell_type": "code",
   "execution_count": 9,
   "metadata": {},
   "outputs": [],
   "source": [
    "def compute_dot_product(vector1, vector2):\n",
    "    result = np.dot(vector1, vector2)\n",
    "\n",
    "    return result"
   ]
  },
  {
   "cell_type": "markdown",
   "metadata": {},
   "source": [
    "**1.3. Multiplying a vector by a matrix**"
   ]
  },
  {
   "cell_type": "code",
   "execution_count": 10,
   "metadata": {},
   "outputs": [],
   "source": [
    "def matrix_multi_vector(matrix, vector):\n",
    "    result  = np.dot(matrix, vector)\n",
    "    return result"
   ]
  },
  {
   "cell_type": "code",
   "execution_count": 11,
   "metadata": {},
   "outputs": [
    {
     "name": "stdout",
     "output_type": "stream",
     "text": [
      "[3 1]\n"
     ]
    }
   ],
   "source": [
    "m = np.array([[-1, 1, 1], [0, -4, 9]])\n",
    "v = np.array([0, 2, 1])\n",
    "result = matrix_multi_vector(m, v)\n",
    "print(result)"
   ]
  },
  {
   "cell_type": "markdown",
   "metadata": {},
   "source": [
    "**1.4. Multiplying a matrix by a matrix**"
   ]
  },
  {
   "cell_type": "code",
   "execution_count": 12,
   "metadata": {},
   "outputs": [],
   "source": [
    "def matrix_multi_matrix(matrix1, matrix2):\n",
    "    result = np.dot(matrix1, matrix2)\n",
    "\n",
    "    return result"
   ]
  },
  {
   "cell_type": "markdown",
   "metadata": {},
   "source": [
    "**1.5 Matrix inverse**"
   ]
  },
  {
   "cell_type": "markdown",
   "metadata": {},
   "source": [
    "*Check square matrix*"
   ]
  },
  {
   "cell_type": "code",
   "execution_count": 13,
   "metadata": {},
   "outputs": [],
   "source": [
    "def is_square_matrix(arr):\n",
    "    # Check numpy array\n",
    "    if not isinstance(arr, np.ndarray):\n",
    "      return False\n",
    "    \n",
    "    # Check 2D matrix\n",
    "    if arr.ndim != 2:\n",
    "      return False\n",
    "  \n",
    "    # Check dimension of matrix, if rows = cols --> square matrix\n",
    "    rows, cols = arr.shape\n",
    "    return rows == cols"
   ]
  },
  {
   "cell_type": "markdown",
   "metadata": {},
   "source": [
    "***1.5.1. Calculate determinant*** "
   ]
  },
  {
   "cell_type": "code",
   "execution_count": 14,
   "metadata": {},
   "outputs": [],
   "source": [
    "def compute_determinant(matrix):\n",
    "    det = np.linalg.det(matrix)\n",
    "    return det"
   ]
  },
  {
   "cell_type": "markdown",
   "metadata": {},
   "source": [
    "***1.5.2. Check invertibility & compute matrix inverse***"
   ]
  },
  {
   "cell_type": "code",
   "execution_count": 15,
   "metadata": {},
   "outputs": [],
   "source": [
    "matrix1 = [[-2, 6], [8, -4]]\n",
    "matrix = np.array(matrix1)"
   ]
  },
  {
   "cell_type": "code",
   "execution_count": 16,
   "metadata": {},
   "outputs": [
    {
     "data": {
      "text/plain": [
       "-39.99999999999998"
      ]
     },
     "execution_count": 16,
     "metadata": {},
     "output_type": "execute_result"
    }
   ],
   "source": [
    "compute_determinant(matrix)"
   ]
  },
  {
   "cell_type": "code",
   "execution_count": 17,
   "metadata": {},
   "outputs": [],
   "source": [
    "def inverse_matrix(matrix):\n",
    "    if compute_determinant(matrix) == 0:\n",
    "        print(\"This matrix is not invertible\")\n",
    "    else:\n",
    "        result = np.linalg.inv(matrix)\n",
    "        print(f\"The inverse of the matrix is: {inverse}\")\n",
    "    return result"
   ]
  },
  {
   "cell_type": "markdown",
   "metadata": {},
   "source": [
    "**2.1. Eigenvector and eigenvalue**"
   ]
  },
  {
   "cell_type": "code",
   "execution_count": 18,
   "metadata": {},
   "outputs": [],
   "source": [
    "def compute_eigenvalues_eigenvectors(matrix):\n",
    "  eigenvalues, eigenvectors = np.linalg.eig(matrix)\n",
    "  return eigenvalues,eigenvectors"
   ]
  },
  {
   "cell_type": "markdown",
   "metadata": {},
   "source": [
    "**3.1. Consine similarity**"
   ]
  },
  {
   "cell_type": "code",
   "execution_count": 19,
   "metadata": {},
   "outputs": [],
   "source": [
    "from numpy import dot\n",
    "from numpy.linalg import norm\n",
    "\n",
    "def compute_cosine(v1, v2):\n",
    "  cos_sim = compute_dot_product(v1,v2) / (compute_vector_length(v1)*compute_vector_length(v2))\n",
    "\n",
    "  return cos_sim"
   ]
  },
  {
   "cell_type": "markdown",
   "metadata": {},
   "source": [
    "**4. Background subtraction**"
   ]
  },
  {
   "cell_type": "code",
   "execution_count": 20,
   "metadata": {},
   "outputs": [],
   "source": [
    "import cv2"
   ]
  },
  {
   "cell_type": "code",
   "execution_count": 21,
   "metadata": {},
   "outputs": [],
   "source": [
    "bg1_image = cv2.imread('D:/Onedrive2024/OneDrive/1.0 DS & AI/AIO2024/AIO-Exercise/Module_02/Week_02/GreenBackground.png', 1)\n",
    "ob_image = cv2.imread('D:/Onedrive2024/OneDrive/1.0 DS & AI/AIO2024/AIO-Exercise/Module_02/Week_02/Object.png', 1)\n",
    "bg2_image = cv2.imread('D:/Onedrive2024/OneDrive/1.0 DS & AI/AIO2024/AIO-Exercise/Module_02/Week_02/NewBackground.jpg', 1)"
   ]
  },
  {
   "cell_type": "code",
   "execution_count": 32,
   "metadata": {},
   "outputs": [
    {
     "ename": "error",
     "evalue": "OpenCV(4.10.0) D:\\a\\opencv-python\\opencv-python\\opencv\\modules\\imgproc\\src\\resize.cpp:4152: error: (-215:Assertion failed) !ssize.empty() in function 'cv::resize'\n",
     "output_type": "error",
     "traceback": [
      "\u001b[1;31m---------------------------------------------------------------------------\u001b[0m",
      "\u001b[1;31merror\u001b[0m                                     Traceback (most recent call last)",
      "Cell \u001b[1;32mIn[32], line 2\u001b[0m\n\u001b[0;32m      1\u001b[0m IMAGE_SIZE \u001b[38;5;241m=\u001b[39m (\u001b[38;5;241m678\u001b[39m, \u001b[38;5;241m381\u001b[39m)\n\u001b[1;32m----> 2\u001b[0m bg1_image \u001b[38;5;241m=\u001b[39m \u001b[43mcv2\u001b[49m\u001b[38;5;241;43m.\u001b[39;49m\u001b[43mresize\u001b[49m\u001b[43m(\u001b[49m\u001b[43mbg1_image\u001b[49m\u001b[43m,\u001b[49m\u001b[43m \u001b[49m\u001b[43mIMAGE_SIZE\u001b[49m\u001b[43m)\u001b[49m\n\u001b[0;32m      3\u001b[0m ob_image \u001b[38;5;241m=\u001b[39m cv2\u001b[38;5;241m.\u001b[39mresize(ob_image, IMAGE_SIZE)\n\u001b[0;32m      4\u001b[0m bg2_image \u001b[38;5;241m=\u001b[39m cv2\u001b[38;5;241m.\u001b[39mresize(bg2_image, IMAGE_SIZE)\n",
      "\u001b[1;31merror\u001b[0m: OpenCV(4.10.0) D:\\a\\opencv-python\\opencv-python\\opencv\\modules\\imgproc\\src\\resize.cpp:4152: error: (-215:Assertion failed) !ssize.empty() in function 'cv::resize'\n"
     ]
    }
   ],
   "source": [
    "IMAGE_SIZE = (678, 381)\n",
    "bg1_image = cv2.resize(bg1_image, IMAGE_SIZE)\n",
    "ob_image = cv2.resize(ob_image, IMAGE_SIZE)\n",
    "bg2_image = cv2.resize(bg2_image, IMAGE_SIZE)"
   ]
  },
  {
   "cell_type": "code",
   "execution_count": 25,
   "metadata": {},
   "outputs": [],
   "source": [
    "def compute_difference(bg_img, input_img):\n",
    "    difference_three_channel = cv2.absdiff(bg_img, input_img)\n",
    "    difference_single_channel = np.sum(difference_three_channel, axis=2) / 3.0\n",
    "    difference_single_channel = difference_single_channel.astype('uint8')\n",
    "\n",
    "    return difference_single_channel"
   ]
  },
  {
   "cell_type": "code",
   "execution_count": 26,
   "metadata": {},
   "outputs": [
    {
     "ename": "AxisError",
     "evalue": "axis 2 is out of bounds for array of dimension 0",
     "output_type": "error",
     "traceback": [
      "\u001b[1;31m---------------------------------------------------------------------------\u001b[0m",
      "\u001b[1;31mAxisError\u001b[0m                                 Traceback (most recent call last)",
      "Cell \u001b[1;32mIn[26], line 1\u001b[0m\n\u001b[1;32m----> 1\u001b[0m difference_single_channel \u001b[38;5;241m=\u001b[39m \u001b[43mcompute_difference\u001b[49m\u001b[43m(\u001b[49m\u001b[43mbg1_image\u001b[49m\u001b[43m,\u001b[49m\u001b[43m \u001b[49m\u001b[43mob_image\u001b[49m\u001b[43m)\u001b[49m\n\u001b[0;32m      2\u001b[0m cv2_imshow(difference_single_channel)\n",
      "Cell \u001b[1;32mIn[25], line 3\u001b[0m, in \u001b[0;36mcompute_difference\u001b[1;34m(bg_img, input_img)\u001b[0m\n\u001b[0;32m      1\u001b[0m \u001b[38;5;28;01mdef\u001b[39;00m \u001b[38;5;21mcompute_difference\u001b[39m(bg_img, input_img):\n\u001b[0;32m      2\u001b[0m     difference_three_channel \u001b[38;5;241m=\u001b[39m cv2\u001b[38;5;241m.\u001b[39mabsdiff(bg_img, input_img)\n\u001b[1;32m----> 3\u001b[0m     difference_single_channel \u001b[38;5;241m=\u001b[39m \u001b[43mnp\u001b[49m\u001b[38;5;241;43m.\u001b[39;49m\u001b[43msum\u001b[49m\u001b[43m(\u001b[49m\u001b[43mdifference_three_channel\u001b[49m\u001b[43m,\u001b[49m\u001b[43m \u001b[49m\u001b[43maxis\u001b[49m\u001b[38;5;241;43m=\u001b[39;49m\u001b[38;5;241;43m2\u001b[39;49m\u001b[43m)\u001b[49m \u001b[38;5;241m/\u001b[39m \u001b[38;5;241m3.0\u001b[39m\n\u001b[0;32m      4\u001b[0m     difference_single_channel \u001b[38;5;241m=\u001b[39m difference_single_channel\u001b[38;5;241m.\u001b[39mastype(\u001b[38;5;124m'\u001b[39m\u001b[38;5;124muint8\u001b[39m\u001b[38;5;124m'\u001b[39m)\n\u001b[0;32m      6\u001b[0m     \u001b[38;5;28;01mreturn\u001b[39;00m difference_single_channel\n",
      "File \u001b[1;32mc:\\Users\\tienhyu\\anaconda3\\Lib\\site-packages\\numpy\\core\\fromnumeric.py:2313\u001b[0m, in \u001b[0;36msum\u001b[1;34m(a, axis, dtype, out, keepdims, initial, where)\u001b[0m\n\u001b[0;32m   2310\u001b[0m         \u001b[38;5;28;01mreturn\u001b[39;00m out\n\u001b[0;32m   2311\u001b[0m     \u001b[38;5;28;01mreturn\u001b[39;00m res\n\u001b[1;32m-> 2313\u001b[0m \u001b[38;5;28;01mreturn\u001b[39;00m \u001b[43m_wrapreduction\u001b[49m\u001b[43m(\u001b[49m\u001b[43ma\u001b[49m\u001b[43m,\u001b[49m\u001b[43m \u001b[49m\u001b[43mnp\u001b[49m\u001b[38;5;241;43m.\u001b[39;49m\u001b[43madd\u001b[49m\u001b[43m,\u001b[49m\u001b[43m \u001b[49m\u001b[38;5;124;43m'\u001b[39;49m\u001b[38;5;124;43msum\u001b[39;49m\u001b[38;5;124;43m'\u001b[39;49m\u001b[43m,\u001b[49m\u001b[43m \u001b[49m\u001b[43maxis\u001b[49m\u001b[43m,\u001b[49m\u001b[43m \u001b[49m\u001b[43mdtype\u001b[49m\u001b[43m,\u001b[49m\u001b[43m \u001b[49m\u001b[43mout\u001b[49m\u001b[43m,\u001b[49m\u001b[43m \u001b[49m\u001b[43mkeepdims\u001b[49m\u001b[38;5;241;43m=\u001b[39;49m\u001b[43mkeepdims\u001b[49m\u001b[43m,\u001b[49m\n\u001b[0;32m   2314\u001b[0m \u001b[43m                      \u001b[49m\u001b[43minitial\u001b[49m\u001b[38;5;241;43m=\u001b[39;49m\u001b[43minitial\u001b[49m\u001b[43m,\u001b[49m\u001b[43m \u001b[49m\u001b[43mwhere\u001b[49m\u001b[38;5;241;43m=\u001b[39;49m\u001b[43mwhere\u001b[49m\u001b[43m)\u001b[49m\n",
      "File \u001b[1;32mc:\\Users\\tienhyu\\anaconda3\\Lib\\site-packages\\numpy\\core\\fromnumeric.py:88\u001b[0m, in \u001b[0;36m_wrapreduction\u001b[1;34m(obj, ufunc, method, axis, dtype, out, **kwargs)\u001b[0m\n\u001b[0;32m     85\u001b[0m         \u001b[38;5;28;01melse\u001b[39;00m:\n\u001b[0;32m     86\u001b[0m             \u001b[38;5;28;01mreturn\u001b[39;00m reduction(axis\u001b[38;5;241m=\u001b[39maxis, out\u001b[38;5;241m=\u001b[39mout, \u001b[38;5;241m*\u001b[39m\u001b[38;5;241m*\u001b[39mpasskwargs)\n\u001b[1;32m---> 88\u001b[0m \u001b[38;5;28;01mreturn\u001b[39;00m \u001b[43mufunc\u001b[49m\u001b[38;5;241;43m.\u001b[39;49m\u001b[43mreduce\u001b[49m\u001b[43m(\u001b[49m\u001b[43mobj\u001b[49m\u001b[43m,\u001b[49m\u001b[43m \u001b[49m\u001b[43maxis\u001b[49m\u001b[43m,\u001b[49m\u001b[43m \u001b[49m\u001b[43mdtype\u001b[49m\u001b[43m,\u001b[49m\u001b[43m \u001b[49m\u001b[43mout\u001b[49m\u001b[43m,\u001b[49m\u001b[43m \u001b[49m\u001b[38;5;241;43m*\u001b[39;49m\u001b[38;5;241;43m*\u001b[39;49m\u001b[43mpasskwargs\u001b[49m\u001b[43m)\u001b[49m\n",
      "\u001b[1;31mAxisError\u001b[0m: axis 2 is out of bounds for array of dimension 0"
     ]
    }
   ],
   "source": [
    "difference_single_channel = compute_difference(bg1_image, ob_image)\n",
    "cv2_imshow(difference_single_channel)"
   ]
  },
  {
   "cell_type": "code",
   "execution_count": 27,
   "metadata": {},
   "outputs": [],
   "source": [
    "def computeBinaryMask(difference_single_channel):\n",
    "    difference_binary = np.where(difference_single_channel >= 15, 255, 0)\n",
    "    difference_binary = np.stack((difference_binary,)*3, axis=-1)\n",
    "    return difference_binary"
   ]
  },
  {
   "cell_type": "code",
   "execution_count": 28,
   "metadata": {},
   "outputs": [
    {
     "ename": "NameError",
     "evalue": "name 'difference_single_channel' is not defined",
     "output_type": "error",
     "traceback": [
      "\u001b[1;31m---------------------------------------------------------------------------\u001b[0m",
      "\u001b[1;31mNameError\u001b[0m                                 Traceback (most recent call last)",
      "Cell \u001b[1;32mIn[28], line 1\u001b[0m\n\u001b[1;32m----> 1\u001b[0m binary_mask \u001b[38;5;241m=\u001b[39m computeBinaryMask(\u001b[43mdifference_single_channel\u001b[49m)\n\u001b[0;32m      2\u001b[0m cv2_imshow(binary_mask)\n",
      "\u001b[1;31mNameError\u001b[0m: name 'difference_single_channel' is not defined"
     ]
    }
   ],
   "source": [
    "binary_mask = computeBinaryMask(difference_single_channel)\n",
    "cv2_imshow(binary_mask)"
   ]
  },
  {
   "cell_type": "code",
   "execution_count": 29,
   "metadata": {},
   "outputs": [],
   "source": [
    "def replaceBackGround(bg1_image, bg2_image, ob_image):\n",
    "    difference_single_channel = computeDifference(bg1_image,ob_image)\n",
    "    binary_mask = computeBinaryMask(difference_single_channel)\n",
    "\n",
    "    output = np.where(binary_mask==255, ob_image, bg2_image)\n",
    "\n",
    "    return output"
   ]
  },
  {
   "cell_type": "code",
   "execution_count": 30,
   "metadata": {},
   "outputs": [
    {
     "ename": "NameError",
     "evalue": "name 'computeDifference' is not defined",
     "output_type": "error",
     "traceback": [
      "\u001b[1;31m---------------------------------------------------------------------------\u001b[0m",
      "\u001b[1;31mNameError\u001b[0m                                 Traceback (most recent call last)",
      "Cell \u001b[1;32mIn[30], line 1\u001b[0m\n\u001b[1;32m----> 1\u001b[0m output \u001b[38;5;241m=\u001b[39m \u001b[43mreplaceBackGround\u001b[49m\u001b[43m(\u001b[49m\u001b[43mbg1_image\u001b[49m\u001b[43m,\u001b[49m\u001b[43m \u001b[49m\u001b[43mbg2_image\u001b[49m\u001b[43m,\u001b[49m\u001b[43m \u001b[49m\u001b[43mob_image\u001b[49m\u001b[43m)\u001b[49m\n\u001b[0;32m      3\u001b[0m cv2_imshow(output)\n",
      "Cell \u001b[1;32mIn[29], line 2\u001b[0m, in \u001b[0;36mreplaceBackGround\u001b[1;34m(bg1_image, bg2_image, ob_image)\u001b[0m\n\u001b[0;32m      1\u001b[0m \u001b[38;5;28;01mdef\u001b[39;00m \u001b[38;5;21mreplaceBackGround\u001b[39m(bg1_image, bg2_image, ob_image):\n\u001b[1;32m----> 2\u001b[0m     difference_single_channel \u001b[38;5;241m=\u001b[39m \u001b[43mcomputeDifference\u001b[49m(bg1_image,ob_image)\n\u001b[0;32m      3\u001b[0m     binary_mask \u001b[38;5;241m=\u001b[39m computeBinaryMask(difference_single_channel)\n\u001b[0;32m      5\u001b[0m     output \u001b[38;5;241m=\u001b[39m np\u001b[38;5;241m.\u001b[39mwhere(binary_mask\u001b[38;5;241m==\u001b[39m\u001b[38;5;241m255\u001b[39m, ob_image, bg2_image)\n",
      "\u001b[1;31mNameError\u001b[0m: name 'computeDifference' is not defined"
     ]
    }
   ],
   "source": [
    "output = replaceBackGround(bg1_image, bg2_image, ob_image)\n",
    "\n",
    "cv2_imshow(output)"
   ]
  },
  {
   "cell_type": "markdown",
   "metadata": {},
   "source": [
    "**Question:**"
   ]
  },
  {
   "cell_type": "markdown",
   "metadata": {},
   "source": [
    "***Q1:***"
   ]
  },
  {
   "cell_type": "code",
   "execution_count": null,
   "metadata": {},
   "outputs": [
    {
     "name": "stdout",
     "output_type": "stream",
     "text": [
      "23.28\n"
     ]
    }
   ],
   "source": [
    "vector = np.array([-2, 4, 9, 21])\n",
    "result = compute_vector_length([vector])\n",
    "print(round(result, 2))"
   ]
  },
  {
   "cell_type": "markdown",
   "metadata": {},
   "source": [
    "***Q2:***"
   ]
  },
  {
   "cell_type": "code",
   "execution_count": null,
   "metadata": {},
   "outputs": [
    {
     "name": "stdout",
     "output_type": "stream",
     "text": [
      "4\n"
     ]
    }
   ],
   "source": [
    "v1 = np.array([0 , 1, -1, 2])\n",
    "v2 = np.array([2 , 5, 1, 0])\n",
    "result = compute_dot_product(v1 , v2)\n",
    "print(round(result, 2))"
   ]
  },
  {
   "cell_type": "markdown",
   "metadata": {},
   "source": [
    "***Q3:***"
   ]
  },
  {
   "cell_type": "code",
   "execution_count": null,
   "metadata": {},
   "outputs": [
    {
     "name": "stdout",
     "output_type": "stream",
     "text": [
      "result \n",
      " [ 5 11]\n"
     ]
    }
   ],
   "source": [
    "x = np.array([[1, 2], [3, 4]])\n",
    "k = np.array([1, 2])\n",
    "print('result \\n', x.dot(k))"
   ]
  },
  {
   "cell_type": "markdown",
   "metadata": {},
   "source": [
    "***Q4:***"
   ]
  },
  {
   "cell_type": "code",
   "execution_count": null,
   "metadata": {},
   "outputs": [
    {
     "name": "stdout",
     "output_type": "stream",
     "text": [
      "result \n",
      " [ 3 -5]\n"
     ]
    }
   ],
   "source": [
    "x = np.array([[-1, 2], [3, -4]])\n",
    "k = np.array([1, 2])\n",
    "print('result \\n', x@k)"
   ]
  },
  {
   "cell_type": "markdown",
   "metadata": {},
   "source": [
    "***Q5:***"
   ]
  },
  {
   "cell_type": "code",
   "execution_count": null,
   "metadata": {},
   "outputs": [
    {
     "name": "stdout",
     "output_type": "stream",
     "text": [
      "[3 1]\n"
     ]
    }
   ],
   "source": [
    "m = np.array([[-1, 1, 1], [0, -4, 9]])\n",
    "v = np.array([0, 2, 1])\n",
    "result = matrix_multi_vector(m, v)\n",
    "print(result)"
   ]
  },
  {
   "cell_type": "markdown",
   "metadata": {},
   "source": [
    "***Q6:***"
   ]
  },
  {
   "cell_type": "code",
   "execution_count": null,
   "metadata": {},
   "outputs": [
    {
     "name": "stdout",
     "output_type": "stream",
     "text": [
      "[[  6  -1]\n",
      " [-16 -10]]\n"
     ]
    }
   ],
   "source": [
    "m1 = np.array ([[0, 1, 2], [2, -3, 1]])\n",
    "m2 = np.array ([[1, -3] ,[6, 1], [0, -1]])\n",
    "result = matrix_multi_matrix(m1, m2)\n",
    "print(result)"
   ]
  },
  {
   "cell_type": "markdown",
   "metadata": {},
   "source": [
    "***Q7:***"
   ]
  },
  {
   "cell_type": "code",
   "execution_count": null,
   "metadata": {},
   "outputs": [
    {
     "name": "stdout",
     "output_type": "stream",
     "text": [
      "[[1. 1. 1.]\n",
      " [2. 2. 2.]\n",
      " [3. 3. 3.]]\n"
     ]
    }
   ],
   "source": [
    "m1 = np.eye(3)\n",
    "m2 = np.array ([[1, 1, 1] ,[2, 2, 2], [3, 3, 3]])\n",
    "result = m1@m2\n",
    "print(result)"
   ]
  },
  {
   "cell_type": "markdown",
   "metadata": {},
   "source": [
    "***Q8:***"
   ]
  },
  {
   "cell_type": "code",
   "execution_count": null,
   "metadata": {},
   "outputs": [
    {
     "name": "stdout",
     "output_type": "stream",
     "text": [
      "[5. 5. 5. 5.]\n"
     ]
    }
   ],
   "source": [
    "m1 = np.eye (2)\n",
    "m1 = np.reshape (m1, (-1, 4))[0]\n",
    "m2 = np.array ([[1, 1, 1, 1] ,[2, 2, 2, 2], [3, 3, 3, 3], [4, 4, 4, 4]])\n",
    "result = m1@m2\n",
    "print(result)"
   ]
  },
  {
   "cell_type": "markdown",
   "metadata": {},
   "source": [
    "***Q9:***"
   ]
  },
  {
   "cell_type": "code",
   "execution_count": null,
   "metadata": {},
   "outputs": [
    {
     "name": "stdout",
     "output_type": "stream",
     "text": [
      "[29 29 29 29]\n"
     ]
    }
   ],
   "source": [
    "m1 = np.array ([[1, 2], [3, 4]])\n",
    "m1 = np.reshape (m1, (-1, 4) , \"F\")[0]\n",
    "m2 = np.array ([[1, 1, 1, 1] ,[2, 2, 2, 2], [3, 3, 3, 3], [4, 4, 4, 4]])\n",
    "result = m1@m2\n",
    "print(result)"
   ]
  },
  {
   "cell_type": "markdown",
   "metadata": {},
   "source": [
    "***Q10:***"
   ]
  },
  {
   "cell_type": "code",
   "execution_count": null,
   "metadata": {},
   "outputs": [
    {
     "name": "stdout",
     "output_type": "stream",
     "text": [
      "The inverse of the matrix is: [[0.1  0.15]\n",
      " [0.2  0.05]]\n",
      "[[0.1  0.15]\n",
      " [0.2  0.05]]\n"
     ]
    }
   ],
   "source": [
    "m1 = np.array ([[-2, 6], [8, -4]])\n",
    "result = inverse_matrix(m1)\n",
    "print(result)"
   ]
  },
  {
   "cell_type": "markdown",
   "metadata": {},
   "source": [
    "***Q11:***"
   ]
  },
  {
   "cell_type": "code",
   "execution_count": null,
   "metadata": {},
   "outputs": [
    {
     "name": "stdout",
     "output_type": "stream",
     "text": [
      "[[ 0.89442719 -0.70710678]\n",
      " [ 0.4472136   0.70710678]]\n"
     ]
    }
   ],
   "source": [
    "matrix = np.array([[0.9, 0.2], [0.1, 0.8]])\n",
    "eigenvalues, eigenvectors = compute_eigenvalues_eigenvectors(matrix )\n",
    "print(eigenvectors)"
   ]
  },
  {
   "cell_type": "markdown",
   "metadata": {},
   "source": [
    "***Q12:***"
   ]
  },
  {
   "cell_type": "code",
   "execution_count": null,
   "metadata": {},
   "outputs": [
    {
     "name": "stdout",
     "output_type": "stream",
     "text": [
      "0.577\n"
     ]
    }
   ],
   "source": [
    "x = np.array ([1, 2, 3, 4])\n",
    "y = np.array ([1, 0, 3, 0])\n",
    "result = compute_cosine(x,y)\n",
    "print(round(result, 3))"
   ]
  }
 ],
 "metadata": {
  "kernelspec": {
   "display_name": "Python 3",
   "language": "python",
   "name": "python3"
  },
  "language_info": {
   "codemirror_mode": {
    "name": "ipython",
    "version": 3
   },
   "file_extension": ".py",
   "mimetype": "text/x-python",
   "name": "python",
   "nbconvert_exporter": "python",
   "pygments_lexer": "ipython3",
   "version": "3.12.4"
  }
 },
 "nbformat": 4,
 "nbformat_minor": 2
}
