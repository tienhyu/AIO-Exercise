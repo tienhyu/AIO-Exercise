{
 "cells": [
  {
   "cell_type": "code",
   "execution_count": 1,
   "metadata": {},
   "outputs": [
    {
     "name": "stdout",
     "output_type": "stream",
     "text": [
      "[5, 5, 5, 5, 10, 12, 33, 33]\n"
     ]
    }
   ],
   "source": [
    "#Q1_Solution1\n",
    "numList = [3, 4, 5, 1, -44, 5, 10, 12, 33, 1]\n",
    "k = 3\n",
    "result =[]\n",
    "subList = []\n",
    "\n",
    "for element in numList:\n",
    "    subList.append(element)\n",
    "    if len(subList) == k:\n",
    "        result.append(max(subList))\n",
    "        del subList[0]\n",
    "\n",
    "print(result)"
   ]
  },
  {
   "cell_type": "code",
   "execution_count": 3,
   "metadata": {},
   "outputs": [
    {
     "name": "stdout",
     "output_type": "stream",
     "text": [
      "[5, 5, 5, 5, 10, 12, 33, 33]\n"
     ]
    }
   ],
   "source": [
    "#Q1_Solution2\n",
    "\n",
    "numList = [3, 4, 5, 1, -44, 5, 10, 12, 33, 1]\n",
    "k = 3\n",
    "\n",
    "start_indexes = list(range(0, len(numList) - k + 1))\n",
    "end_indexes = list(range(k, len(numList) + 1))\n",
    "result = []\n",
    "subList = []\n",
    "for start_index, end_index in zip(start_indexes, end_indexes):\n",
    "    subList = numList[start_index : end_index]\n",
    "    result.append(max(subList))\n",
    "\n",
    "print(result)"
   ]
  },
  {
   "cell_type": "code",
   "execution_count": 31,
   "metadata": {},
   "outputs": [
    {
     "name": "stdout",
     "output_type": "stream",
     "text": [
      "{'H': 1, 'a': 1, 'p': 2, 'i': 1, 'n': 1, 'e': 1, 's': 2}\n",
      "{'s': 1, 'm': 1, 'i': 1, 'l': 1, 'e': 1}\n"
     ]
    }
   ],
   "source": [
    "#Q2\n",
    "word = \"Happiness\"\n",
    "\n",
    "def count_chars(word):\n",
    "    character_statistic ={}\n",
    "    for character in word:\n",
    "        if character in character_statistic:\n",
    "            character_statistic[character] += 1\n",
    "        else:\n",
    "            character_statistic[character] = 1\n",
    "    return character_statistic\n",
    "\n",
    "print(count_chars(word))\n",
    "print(count_chars(\"smile\"))"
   ]
  },
  {
   "cell_type": "code",
   "execution_count": 83,
   "metadata": {},
   "outputs": [
    {
     "name": "stdout",
     "output_type": "stream",
     "text": [
      "{'he': 1, 'who': 3, 'conquers': 1, 'himself': 1, 'is': 3, 'the': 5, 'mightiest': 1, 'warrior': 1, 'try': 2, 'not': 1, 'to': 3, 'become': 2, 'a': 7, 'man': 6, 'of': 4, 'success': 3, 'but': 1, 'rather': 1, 'value': 1, 'one': 4, 'with': 4, 'courage': 1, 'makes': 1, 'majority': 1, 'secret': 1, 'in': 4, 'life': 2, 'for': 3, 'be': 1, 'ready': 1, 'his': 2, 'opportunity': 1, 'when': 2, 'it': 2, 'comes': 2, 'successful': 2, 'will': 2, 'profit': 1, 'from': 1, 'mistakes': 1, 'and': 1, 'again': 1, 'different': 1, 'way': 1, 'can': 3, 'lay': 1, 'firm': 1, 'foundation': 1, 'bricks': 1, 'others': 1, 'have': 1, 'thrown': 1, 'at': 1, 'him': 1, 'usually': 1, 'those': 1, 'are': 1, 'too': 1, 'busy': 1, 'looking': 1, 'we': 3, 'cannot': 1, 'solve': 1, 'problems': 1, 'kind': 1, 'thinking': 1, 'employed': 1, 'came': 1, 'up': 1, 'them': 1, 'just': 2, 'small': 1, 'positive': 1, 'thought': 1, 'morning': 1, 'change': 1, 'your': 1, 'whole': 1, 'day': 1, 'you': 3, 'get': 2, 'everything': 1, 'want': 2, 'if': 1, 'help': 1, 'enough': 1, 'other': 1, 'people': 1, 'what': 1, 'they': 1}\n"
     ]
    }
   ],
   "source": [
    "#Q3\n",
    "file_path = r'D:\\Onedrive2024\\OneDrive\\1.0 DS & AI\\AIO2024\\AIO-Exercise\\Module_01\\Week_02\\P1_data.txt'\n",
    "\n",
    "with open(file_path, 'r') as f:\n",
    "    sentences = f.read()\n",
    "\n",
    "result = {}\n",
    "\n",
    "def preprocess_text(sentences):\n",
    "    sentences = sentences.lower()\n",
    "    sentences = sentences.replace('.','').replace(',', '')\n",
    "    words = sentences.split()\n",
    "    return words\n",
    "\n",
    "sentences = preprocess_text(sentences)\n",
    "\n",
    "for sentence in sentences:\n",
    "    words = sentence.split()\n",
    "    for word in words:\n",
    "        if word in result:\n",
    "            result[word] += 1\n",
    "        else:\n",
    "            result[word] = 1\n",
    "print(result)"
   ]
  },
  {
   "cell_type": "code",
   "execution_count": 96,
   "metadata": {},
   "outputs": [
    {
     "name": "stdout",
     "output_type": "stream",
     "text": [
      "Levenshtein distance of these token is 3.\n",
      "Levenshtein distance matrix is [[0, 1, 2, 3, 4, 5], [1, 0, 1, 2, 3, 4], [2, 1, 1, 2, 3, 3], [3, 2, 2, 1, 2, 3], [4, 3, 3, 2, 2, 3]]\n"
     ]
    }
   ],
   "source": [
    "#Q4\n",
    "def levenshtein_distance(token1, token2):\n",
    "    distances = [[None]*(len(token2) + 1) for i in range(len(token1) + 1)]\n",
    "                 \n",
    "    for t1 in range(len(token1) + 1):\n",
    "        distances[t1][0] = t1\n",
    "\n",
    "    for t2 in range(len(token2) + 1):\n",
    "        distances[0][t2] = t2\n",
    "\n",
    "    a = 0\n",
    "    b = 0\n",
    "    c = 0\n",
    "\n",
    "    for t1 in range(1, len(token1) + 1):\n",
    "        for t2 in range(1, len(token2) + 1):\n",
    "            if (token1[t1-1]) == token2[t2-1]:\n",
    "                distances[t1][t2] = distances[t1-1][t2-1]\n",
    "            else:\n",
    "                a = distances[t1][t2-1]\n",
    "                b = distances[t1 - 1][t2]\n",
    "                c = distances[t1-1][t2-1]\n",
    "\n",
    "                if (a <= b and a <= c):\n",
    "                    distances[t1][t2] = a + 1\n",
    "                elif (b <= a and b <= c):\n",
    "                    distances[t1][t2] = b + 1\n",
    "                else:\n",
    "                    distances[t1][t2] = c + 1\n",
    "    print(f\"Levenshtein distance of these token is {distances[len(token1)][len(token2)]}.\")\n",
    "    # return distances[len(token1)][len(token2)]\n",
    "    print(f\"Levenshtein distance matrix is {distances}\")\n",
    "\n",
    "levenshtein_distance(\"hola\", \"hello\")"
   ]
  }
 ],
 "metadata": {
  "kernelspec": {
   "display_name": "Python 3",
   "language": "python",
   "name": "python3"
  },
  "language_info": {
   "codemirror_mode": {
    "name": "ipython",
    "version": 3
   },
   "file_extension": ".py",
   "mimetype": "text/x-python",
   "name": "python",
   "nbconvert_exporter": "python",
   "pygments_lexer": "ipython3",
   "version": "3.12.3"
  }
 },
 "nbformat": 4,
 "nbformat_minor": 2
}
