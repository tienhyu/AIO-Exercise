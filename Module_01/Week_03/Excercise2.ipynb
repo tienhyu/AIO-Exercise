{
 "cells": [
  {
   "cell_type": "markdown",
   "metadata": {},
   "source": [
    "#**Exercise 2**"
   ]
  },
  {
   "cell_type": "markdown",
   "metadata": {},
   "source": [
    "#*2a:*\n",
    "*Student, Teacher, Doctor class and describe method*"
   ]
  },
  {
   "cell_type": "code",
   "execution_count": 43,
   "metadata": {},
   "outputs": [],
   "source": [
    "from abc import ABC, abstractmethod\n",
    "\n",
    "class Person(ABC):\n",
    "    def __init__(self, name:str, yob:int):\n",
    "        self._name = name\n",
    "        self._yob = yob\n",
    "\n",
    "    @abstractmethod\n",
    "    def describe(self):\n",
    "        pass\n",
    "\n",
    "class Student(Person):\n",
    "    def __init__(self, name:str, yob:int, grade:str):\n",
    "        super().__init__(name=name, yob=yob)\n",
    "        self.__grade = grade\n",
    "\n",
    "    def describe(self):\n",
    "        print(f\"Student - Name: {self._name} - YoB: {self._yob} - Grade: {self.__grade}\")\n",
    "\n",
    "class Teacher(Person):\n",
    "    def __init__(self, name:str, yob:int, subject:str):\n",
    "        super().__init__(name=name, yob=yob)\n",
    "        self.__subject = subject\n",
    "\n",
    "    def describe(self):\n",
    "        print(f\"Teacher - Name: {self._name} - YoB: {self._yob} - Subject: {self.__subject}\")\n",
    "\n",
    "class Doctor(Person):\n",
    "    def __init__(self, name:str, yob:int, specialist:str):\n",
    "        super().__init__(name=name, yob=yob)\n",
    "        self.__specialist = specialist\n",
    "\n",
    "    def describe(self):\n",
    "        print(f\"Doctor - Name: {self._name} - YoB: {self._yob} - Specialist: {self.__specialist}\")"
   ]
  },
  {
   "cell_type": "code",
   "execution_count": 44,
   "metadata": {},
   "outputs": [
    {
     "name": "stdout",
     "output_type": "stream",
     "text": [
      "Student - Name: Nguyen - YoB: 2006 - Grade: 12\n",
      "Teacher - Name: Quang - YoB: 2000 - Subject: Math\n",
      "Doctor - Name: Tien - YoB: 1995 - Specialist: Gastroenterologist\n"
     ]
    }
   ],
   "source": [
    "# Test\n",
    "student1 = Student(name=\"Nguyen\", yob=2006, grade=\"12\")\n",
    "student1.describe()\n",
    "\n",
    "teacher1 = Teacher(name=\"Quang\", yob=2000, subject=\"Math\")\n",
    "teacher1.describe()\n",
    "\n",
    "doctor1 = Doctor(name=\"Tien\", yob=1995, specialist=\"Gastroenterologist\")\n",
    "doctor1.describe()"
   ]
  },
  {
   "cell_type": "markdown",
   "metadata": {},
   "source": [
    "#*2b: Ward class and add_person(person) method*"
   ]
  },
  {
   "cell_type": "code",
   "execution_count": 45,
   "metadata": {},
   "outputs": [],
   "source": [
    "class Ward:\n",
    "    def __init__(self, name:str):\n",
    "        self.__name = name\n",
    "        self.__list_people = list()\n",
    "    \n",
    "    def add_person(self, person):\n",
    "        self.__list_people.append(person)\n",
    "\n",
    "    def describe(self):\n",
    "        print(f\"Ward name: {self.__name}\")\n",
    "        for p in self.__list_people:\n",
    "            p.describe()"
   ]
  },
  {
   "cell_type": "code",
   "execution_count": 46,
   "metadata": {},
   "outputs": [
    {
     "name": "stdout",
     "output_type": "stream",
     "text": [
      "Ward name: Ward 1\n",
      "Student - Name: Nguyen - YoB: 2006 - Grade: 12\n",
      "Teacher - Name: Quang1 - YoB: 2000 - Subject: Math\n",
      "Teacher - Name: Quang2 - YoB: 2000 - Subject: Math\n",
      "Doctor - Name: Tien1 - YoB: 1995 - Specialist: Gastroenterologist1\n",
      "Doctor - Name: Tien2 - YoB: 1995 - Specialist: Gastroenterologist2\n"
     ]
    }
   ],
   "source": [
    "# Test\n",
    "student1 = Student(name=\"Nguyen\", yob=2006, grade=\"12\")\n",
    "\n",
    "teacher1 = Teacher(name=\"Quang1\", yob=2000, subject=\"Math\")\n",
    "teacher2 = Teacher(name=\"Quang2\", yob=2000, subject=\"Math\")\n",
    "\n",
    "doctor1 = Doctor(name=\"Tien1\", yob=1995, specialist=\"Gastroenterologist1\")\n",
    "doctor2 = Doctor(name=\"Tien2\", yob=1995, specialist=\"Gastroenterologist2\")\n",
    "\n",
    "ward1 = Ward(name = \"Ward 1\")\n",
    "ward1.add_person(student1)\n",
    "ward1.add_person(teacher1)\n",
    "ward1.add_person(teacher2)\n",
    "ward1.add_person(doctor1)\n",
    "ward1.add_person(doctor2)\n",
    "\n",
    "ward1.describe()"
   ]
  },
  {
   "cell_type": "markdown",
   "metadata": {},
   "source": [
    "#*2c: count_doctor()*\n"
   ]
  },
  {
   "cell_type": "code",
   "execution_count": 47,
   "metadata": {},
   "outputs": [],
   "source": [
    "class Ward:\n",
    "    def __init__(self, name:str):\n",
    "        self.__name = name\n",
    "        self.__list_people = list()\n",
    "    \n",
    "    def add_person(self, person):\n",
    "        self.__list_people.append(person)\n",
    "\n",
    "    def describe(self):\n",
    "        print(f\"Ward name: {self.__name}\")\n",
    "        for p in self.__list_people:\n",
    "            p.describe()\n",
    "    \n",
    "    def count_doctor(self):\n",
    "        counter = 0\n",
    "        for p in self.__list_people:\n",
    "            if isinstance(p, Doctor):\n",
    "                counter += 1\n",
    "        return counter"
   ]
  },
  {
   "cell_type": "code",
   "execution_count": 48,
   "metadata": {},
   "outputs": [
    {
     "name": "stdout",
     "output_type": "stream",
     "text": [
      "Ward name: Ward 1\n",
      "Student - Name: Nguyen - YoB: 2006 - Grade: 12\n",
      "Teacher - Name: Quang1 - YoB: 2000 - Subject: Math\n",
      "Teacher - Name: Quang2 - YoB: 2000 - Subject: Math\n",
      "Doctor - Name: Tien1 - YoB: 1995 - Specialist: Gastroenterologist1\n",
      "Doctor - Name: Tien2 - YoB: 1995 - Specialist: Gastroenterologist2\n",
      "The number of doctors are 2.\n"
     ]
    }
   ],
   "source": [
    "# Test\n",
    "student1 = Student(name=\"Nguyen\", yob=2006, grade=\"12\")\n",
    "\n",
    "teacher1 = Teacher(name=\"Quang1\", yob=2000, subject=\"Math\")\n",
    "teacher2 = Teacher(name=\"Quang2\", yob=2000, subject=\"Math\")\n",
    "\n",
    "doctor1 = Doctor(name=\"Tien1\", yob=1995, specialist=\"Gastroenterologist1\")\n",
    "doctor2 = Doctor(name=\"Tien2\", yob=1995, specialist=\"Gastroenterologist2\")\n",
    "\n",
    "ward1 = Ward(name = \"Ward 1\")\n",
    "ward1.add_person(student1)\n",
    "ward1.add_person(teacher1)\n",
    "ward1.add_person(teacher2)\n",
    "ward1.add_person(doctor1)\n",
    "ward1.add_person(doctor2)\n",
    "\n",
    "ward1.describe()\n",
    "print(f\"The number of doctors are {ward1.count_doctor()}.\")"
   ]
  },
  {
   "cell_type": "markdown",
   "metadata": {},
   "source": [
    "#*2d: sort_age() method*"
   ]
  },
  {
   "cell_type": "code",
   "execution_count": 62,
   "metadata": {},
   "outputs": [],
   "source": [
    "from abc import ABC, abstractmethod\n",
    "\n",
    "class Person(ABC):\n",
    "    def __init__(self, name:str, yob:int):\n",
    "        self._name = name\n",
    "        self._yob = yob\n",
    "\n",
    "    def get_yob(self):\n",
    "        return self._yob\n",
    "\n",
    "    @abstractmethod\n",
    "    def describe(self):\n",
    "        pass\n",
    "\n",
    "class Student(Person):\n",
    "    def __init__(self, name:str, yob:int, grade:str):\n",
    "        super().__init__(name=name, yob=yob)\n",
    "        self.__grade = grade\n",
    "\n",
    "    def describe(self):\n",
    "        print(f\"Student - Name: {self._name} - YoB: {self._yob} - Grade: {self.__grade}\")\n",
    "\n",
    "class Teacher(Person):\n",
    "    def __init__(self, name:str, yob:int, subject:str):\n",
    "        super().__init__(name=name, yob=yob)\n",
    "        self.__subject = subject\n",
    "\n",
    "    def describe(self):\n",
    "        print(f\"Teacher - Name: {self._name} - YoB: {self._yob} - Subject: {self.__subject}\")\n",
    "\n",
    "class Doctor(Person):\n",
    "    def __init__(self, name:str, yob:int, specialist:str):\n",
    "        super().__init__(name=name, yob=yob)\n",
    "        self.__specialist = specialist\n",
    "\n",
    "    def describe(self):\n",
    "        print(f\"Doctor - Name: {self._name} - YoB: {self._yob} - Specialist: {self.__specialist}\")\n",
    "\n",
    "class Ward:\n",
    "    def __init__(self, name:str):\n",
    "        self.__name = name\n",
    "        self.__list_people = list()\n",
    "    \n",
    "    def add_person(self, person):\n",
    "        self.__list_people.append(person)\n",
    "\n",
    "    def describe(self):\n",
    "        print(f\"Ward name: {self.__name}\")\n",
    "        for p in self.__list_people:\n",
    "            p.describe()\n",
    "    \n",
    "    def count_doctor(self):\n",
    "        counter = 0\n",
    "        for p in self.__list_people:\n",
    "            if isinstance(p, Doctor):\n",
    "                counter += 1\n",
    "        return counter\n",
    "    \n",
    "    def sort_age(self):\n",
    "        self.__list_people.sort(key = lambda x: x.get_yob(), reverse = False)\n",
    "        "
   ]
  },
  {
   "cell_type": "code",
   "execution_count": 63,
   "metadata": {},
   "outputs": [
    {
     "name": "stdout",
     "output_type": "stream",
     "text": [
      "Ward name: Ward 1\n",
      "Doctor - Name: Tien1 - YoB: 1995 - Specialist: Gastroenterologist1\n",
      "Doctor - Name: Tien2 - YoB: 1995 - Specialist: Gastroenterologist2\n",
      "Teacher - Name: Quang1 - YoB: 2000 - Subject: Math\n",
      "Teacher - Name: Quang2 - YoB: 2000 - Subject: Math\n",
      "Student - Name: Nguyen - YoB: 2006 - Grade: 12\n"
     ]
    }
   ],
   "source": [
    "# Test\n",
    "student1 = Student(name=\"Nguyen\", yob=2006, grade=\"12\")\n",
    "\n",
    "teacher1 = Teacher(name=\"Quang1\", yob=2000, subject=\"Math\")\n",
    "teacher2 = Teacher(name=\"Quang2\", yob=2000, subject=\"Math\")\n",
    "\n",
    "doctor1 = Doctor(name=\"Tien1\", yob=1995, specialist=\"Gastroenterologist1\")\n",
    "doctor2 = Doctor(name=\"Tien2\", yob=1995, specialist=\"Gastroenterologist2\")\n",
    "\n",
    "ward1 = Ward(name = \"Ward 1\")\n",
    "ward1.add_person(student1)\n",
    "ward1.add_person(teacher1)\n",
    "ward1.add_person(teacher2)\n",
    "ward1.add_person(doctor1)\n",
    "ward1.add_person(doctor2)\n",
    "\n",
    "ward1.sort_age()\n",
    "ward1.describe()"
   ]
  },
  {
   "cell_type": "markdown",
   "metadata": {},
   "source": [
    "#*2e: compute_average() method*"
   ]
  },
  {
   "cell_type": "code",
   "execution_count": 92,
   "metadata": {},
   "outputs": [],
   "source": [
    "from abc import ABC, abstractmethod\n",
    "\n",
    "class Person(ABC):\n",
    "    def __init__(self, name:str, yob:int):\n",
    "        self._name = name\n",
    "        self._yob = yob\n",
    "\n",
    "    def get_yob(self):\n",
    "        return self._yob\n",
    "\n",
    "    @abstractmethod\n",
    "    def describe(self):\n",
    "        pass\n",
    "\n",
    "class Student(Person):\n",
    "    def __init__(self, name:str, yob:int, grade:str):\n",
    "        super().__init__(name=name, yob=yob)\n",
    "        self.__grade = grade\n",
    "\n",
    "    def describe(self):\n",
    "        print(f\"Student - Name: {self._name} - YoB: {self._yob} - Grade: {self.__grade}\")\n",
    "\n",
    "class Teacher(Person):\n",
    "    def __init__(self, name:str, yob:int, subject:str):\n",
    "        super().__init__(name=name, yob=yob)\n",
    "        self.__subject = subject\n",
    "\n",
    "    def describe(self):\n",
    "        print(f\"Teacher - Name: {self._name} - YoB: {self._yob} - Subject: {self.__subject}\")\n",
    "\n",
    "class Doctor(Person):\n",
    "    def __init__(self, name:str, yob:int, specialist:str):\n",
    "        super().__init__(name=name, yob=yob)\n",
    "        self.__specialist = specialist\n",
    "\n",
    "    def describe(self):\n",
    "        print(f\"Doctor - Name: {self._name} - YoB: {self._yob} - Specialist: {self.__specialist}\")\n",
    "\n",
    "class Ward:\n",
    "    def __init__(self, name:str):\n",
    "        self.__name = name\n",
    "        self.__list_people = list()\n",
    "    \n",
    "    def add_person(self, person):\n",
    "        self.__list_people.append(person)\n",
    "\n",
    "    def describe(self):\n",
    "        print(f\"Ward name: {self.__name}\")\n",
    "        for p in self.__list_people:\n",
    "            p.describe()\n",
    "    \n",
    "    def count_doctor(self):\n",
    "        counter = 0\n",
    "        for p in self.__list_people:\n",
    "            if isinstance(p, Doctor):\n",
    "                counter += 1\n",
    "        return counter\n",
    "    \n",
    "    def sort_age(self):\n",
    "        self.__list_people.sort(key = lambda x: x.get_yob(), reverse = False)\n",
    "    \n",
    "    def compute_average(self):\n",
    "        counter = self.count_doctor()\n",
    "        total_years = 0\n",
    "        for p in self.__list_people:\n",
    "            if isinstance(p, Doctor):\n",
    "                total_years += p.get_yob()\n",
    "        \n",
    "        if counter > 0:\n",
    "            return total_years / counter\n",
    "        else:\n",
    "            return None  "
   ]
  },
  {
   "cell_type": "code",
   "execution_count": 93,
   "metadata": {},
   "outputs": [
    {
     "name": "stdout",
     "output_type": "stream",
     "text": [
      "Ward name: Ward 1\n",
      "Doctor - Name: Tien4 - YoB: 1986 - Specialist: Gastroenterologist2\n",
      "Doctor - Name: Tien3 - YoB: 1989 - Specialist: Gastroenterologist1\n",
      "Doctor - Name: Tien2 - YoB: 1990 - Specialist: Gastroenterologist2\n",
      "Doctor - Name: Tien1 - YoB: 1995 - Specialist: Gastroenterologist1\n",
      "Teacher - Name: Quang1 - YoB: 2000 - Subject: Math\n",
      "Teacher - Name: Quang2 - YoB: 2000 - Subject: Math\n",
      "Student - Name: Nguyen - YoB: 2006 - Grade: 12\n"
     ]
    },
    {
     "data": {
      "text/plain": [
       "1990.0"
      ]
     },
     "execution_count": 93,
     "metadata": {},
     "output_type": "execute_result"
    }
   ],
   "source": [
    "# Test\n",
    "student1 = Student(name=\"Nguyen\", yob=2006, grade=\"12\")\n",
    "\n",
    "teacher1 = Teacher(name=\"Quang1\", yob=2000, subject=\"Math\")\n",
    "teacher2 = Teacher(name=\"Quang2\", yob=2000, subject=\"Math\")\n",
    "\n",
    "doctor1 = Doctor(name=\"Tien1\", yob=1995, specialist=\"Gastroenterologist1\")\n",
    "doctor2 = Doctor(name=\"Tien2\", yob=1990, specialist=\"Gastroenterologist2\")\n",
    "doctor3 = Doctor(name=\"Tien3\", yob=1989, specialist=\"Gastroenterologist1\")\n",
    "doctor4 = Doctor(name=\"Tien4\", yob=1986, specialist=\"Gastroenterologist2\")\n",
    "\n",
    "ward1 = Ward(name = \"Ward 1\")\n",
    "ward1.add_person(student1)\n",
    "ward1.add_person(teacher1)\n",
    "ward1.add_person(teacher2)\n",
    "ward1.add_person(doctor1)\n",
    "ward1.add_person(doctor2)\n",
    "ward1.add_person(doctor3)\n",
    "ward1.add_person(doctor4)\n",
    "\n",
    "ward1.sort_age()\n",
    "ward1.describe()\n",
    "ward1.compute_average()"
   ]
  }
 ],
 "metadata": {
  "kernelspec": {
   "display_name": "python2excel",
   "language": "python",
   "name": "python3"
  },
  "language_info": {
   "codemirror_mode": {
    "name": "ipython",
    "version": 3
   },
   "file_extension": ".py",
   "mimetype": "text/x-python",
   "name": "python",
   "nbconvert_exporter": "python",
   "pygments_lexer": "ipython3",
   "version": "3.12.2"
  }
 },
 "nbformat": 4,
 "nbformat_minor": 2
}
