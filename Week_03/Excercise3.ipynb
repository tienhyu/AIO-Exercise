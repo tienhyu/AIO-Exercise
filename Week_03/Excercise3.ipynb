{
 "cells": [
  {
   "cell_type": "markdown",
   "metadata": {},
   "source": [
    "#**Exercise 3**"
   ]
  },
  {
   "cell_type": "code",
   "execution_count": 10,
   "metadata": {},
   "outputs": [],
   "source": [
    "class MyStack:\n",
    "    # initialization\n",
    "    def __init__(self, capacity:int):\n",
    "        self.__capacity = capacity\n",
    "        self.__stack = []\n",
    "\n",
    "    # is_empty()\n",
    "    def is_empty(self):\n",
    "        return  len(self.__stack) == 0\n",
    "\n",
    "    # is_full()\n",
    "    def is_full(self):\n",
    "        return len(self.__stack) == self.__capacity\n",
    "    \n",
    "    # pop()\n",
    "    def pop(self):\n",
    "        if self.is_empty():\n",
    "            raise Exception(\"Underflow\")\n",
    "        return self.__stack.pop()\n",
    "    \n",
    "    # push(value)\n",
    "    def push(self, value):\n",
    "        if self.is_full():\n",
    "            raise Exception(\"Overflow\")\n",
    "        return self.__stack.append(value)\n",
    "    # top\n",
    "    def top(self):\n",
    "        if self.is_empty():\n",
    "            print(\"The queue is empty\")\n",
    "            return\n",
    "        return self.__stack[len(self.__stack) -1]\n",
    "    "
   ]
  },
  {
   "cell_type": "code",
   "execution_count": 21,
   "metadata": {},
   "outputs": [
    {
     "name": "stdout",
     "output_type": "stream",
     "text": [
      "False\n",
      "False\n",
      "5\n",
      "5\n",
      "2\n",
      "2\n",
      "False\n",
      "1\n",
      "1\n",
      "True\n"
     ]
    }
   ],
   "source": [
    "# test\n",
    "stack1 = MyStack(capacity =5)\n",
    "stack1.push(1)\n",
    "stack1.push(2)\n",
    "stack1.push(5)\n",
    "print(stack1.is_full())\n",
    "print(stack1.is_empty())\n",
    "print(stack1.top())\n",
    "print(stack1.pop())\n",
    "print(stack1.top())\n",
    "print(stack1.pop())\n",
    "print(stack1.is_empty())\n",
    "print(stack1.top())\n",
    "print(stack1.pop())\n",
    "print(stack1.is_empty())"
   ]
  }
 ],
 "metadata": {
  "kernelspec": {
   "display_name": "python2excel",
   "language": "python",
   "name": "python3"
  },
  "language_info": {
   "codemirror_mode": {
    "name": "ipython",
    "version": 3
   },
   "file_extension": ".py",
   "mimetype": "text/x-python",
   "name": "python",
   "nbconvert_exporter": "python",
   "pygments_lexer": "ipython3",
   "version": "3.12.2"
  }
 },
 "nbformat": 4,
 "nbformat_minor": 2
}
